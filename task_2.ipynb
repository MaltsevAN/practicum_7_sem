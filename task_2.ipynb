{
 "cells": [
  {
   "cell_type": "markdown",
   "metadata": {},
   "source": [
    "## Машинное обучение, ВМК МГУ\n",
    "\n",
    "## Практическое задание 4\n",
    "\n",
    "### Общая информация\n",
    "\n",
    "Дата выдачи: 22.10.2018\n",
    "\n",
    "Дедлайн: 16.11.2018"
   ]
  },
  {
   "cell_type": "markdown",
   "metadata": {},
   "source": [
    "### О задании\n",
    "\n",
    "__Первая часть__ задания посвящена реализации различных слоёв нейронной сети.\n",
    "\n",
    "__Вторая часть__ задания посвящена реализации алгоритма обратного распространения ошибки и обучение нейросети на задаче распознавания рукописных цифр MNIST.\n",
    "\n",
    "__Третья часть__ задания посвящена реализации сверточного слоя и пулинга для улучшения решения задачи классификации из предыдущего пункта.\n",
    "\n",
    "\n",
    "### Оценивание и штрафы\n",
    "Сдавать задание после указанного срока сдачи нельзя. При выставлении неполного балла за задание в связи с наличием ошибок на усмотрение проверяющего предусмотрена возможность исправить работу на указанных в ответном письме условиях.\n",
    "\n",
    "Задание выполняется самостоятельно. «Похожие» решения считаются плагиатом и все задействованные студенты (в том числе те, у кого списали) не могут получить за него больше 0 баллов.\n",
    "\n",
    "Неэффективная реализация кода может негативно отразиться на оценке."
   ]
  },
  {
   "cell_type": "code",
   "execution_count": 1,
   "metadata": {},
   "outputs": [],
   "source": [
    "import numpy as np"
   ]
  },
  {
   "cell_type": "markdown",
   "metadata": {},
   "source": [
    "## Часть 1. Реализация слоёв графа вычислений\n",
    "\n",
    "В этом задании мы реализуем граф вычислений для задачи распознавания изображений рукописных цифр на примере датасета [MNIST](http://yann.lecun.com/exdb/mnist/) — в частности, эта часть посвящена реализации всех требующихся для построения графа слоёв.\n",
    "\n",
    "Указанная задача является задачей классификации на $K = 10$ классов, поэтому будем строить граф вычислений, выходной слой которого будет содержать 10 нейронов, $k$-ый из которых вычисляет оценку принадлежности объекта $k$-ому классу. В качестве функционала качества в данной задаче будем использовать **кросс-энтропию**:\n",
    "\n",
    "$$Q(a, X) = -\\frac{1}{l}\\sum_{i=1}^l \\sum_{k=1}^K [y_i = k] \\log a_k(x_i),$$\n",
    "где\n",
    "\n",
    "$X = \\{ (x_i, y_i)\\}_{i=1}^l, \\, y_i \\in \\{1, \\dots, K\\},$ — обучающая выборка,\n",
    "\n",
    "$a(x) = (a_k(x))_{k=1}^K \\in \\mathbb{R}^K$ — прогноз графа вычислений для объекта $x$, состоящий из выходов $K$ нейронов выходного слоя (т.е. $a_k(x)$ — оценка принадлежности объекта $x$ классу $k$, построенная при помощи заданного графа вычислений).\n",
    "\n",
    "Нейрнонные сети обучаются с использованием стохастических методов оптимизации, однако для ускорения обучения и большей стабильности за один проход параметры оптимизируются по батчу — набору из нескольких тренировочных примеров, также batch_size является дополнительной размерностью для входящих в слой тензоров.\n",
    "\n",
    "Для начала определим класс Layer, реализующий тождественный слой, который будет являться базовым классом для всех последующих."
   ]
  },
  {
   "cell_type": "code",
   "execution_count": 2,
   "metadata": {},
   "outputs": [],
   "source": [
    "class Layer:\n",
    "    \"\"\"\n",
    "    A building block. Each layer is capable of performing two things:\n",
    "\n",
    "    - Process input to get output:           output = layer.forward(input)\n",
    "\n",
    "    - Propagate gradients through itself:    grad_input = layer.backward(input, grad_output)\n",
    "\n",
    "    Some layers also have learnable parameters which they update during layer.backward.\n",
    "    \"\"\"\n",
    "\n",
    "    def __init__(self):\n",
    "        \"\"\"\n",
    "        Here you can initialize layer parameters (if any) and auxiliary stuff.\n",
    "        \"\"\"\n",
    "\n",
    "        raise NotImplementedError(\"Not implemented in interface\")\n",
    "\n",
    "    def forward(self, input):\n",
    "        \"\"\"\n",
    "        Takes input data of shape [batch, ...], returns output data [batch, ...]\n",
    "        \"\"\"\n",
    "\n",
    "        raise NotImplementedError(\"Not implemented in interface\")\n",
    "\n",
    "    def backward(self, input, grad_output):\n",
    "        \"\"\"\n",
    "        Performs a backpropagation step through the layer, with respect to the given input. Updates layer parameters and returns gradient for next layer\n",
    "        Let x be layer weights, output – output of the layer on the given input and grad_output – gradient of layer with respect to output\n",
    "\n",
    "        To compute loss gradients w.r.t parameters, you need to apply chain rule (backprop):\n",
    "        (d loss / d x)  = (d loss / d output) * (d output / d x)\n",
    "        Luckily, you already receive (d loss / d output) as grad_output, so you only need to multiply it by (d output / d x)\n",
    "        If your layer has parameters (e.g. dense layer), you need to update them here using d loss / d x. The resulting update is a sum of updates in a batch.\n",
    "        \n",
    "        returns (d loss / d input) = (d loss / d output) * (d output / d input)\n",
    "        \"\"\"\n",
    "\n",
    "        raise NotImplementedError(\"Not implemented in interface\")"
   ]
  },
  {
   "cell_type": "markdown",
   "metadata": {},
   "source": [
    "**Задание 1.**\n",
    "\n",
    "Используя приведенные прототипы, реализуйте слой, применяющий функцию активации ReLU (Rectified Linear Unit) поэлементно к каждому из входов слоя:\n",
    "$$\\text{ReLU}(z) = \\max (0, z)$$"
   ]
  },
  {
   "cell_type": "code",
   "execution_count": 3,
   "metadata": {},
   "outputs": [],
   "source": [
    "class ReLU(Layer):\n",
    "    def __init__(self):\n",
    "        \"\"\"\n",
    "        ReLU layer simply applies elementwise rectified linear unit to all inputs\n",
    "        This layer does not have any parameters.\n",
    "        \"\"\"\n",
    "        pass\n",
    "#         raise NotImplementedError(\"Implement me plz ;(\")\n",
    "\n",
    "    def forward(self, input):\n",
    "        \"\"\"\n",
    "        Perform ReLU transformation\n",
    "        input shape: [batch, input_units]\n",
    "        output shape: [batch, input_units]\n",
    "        \"\"\"\n",
    "        self.X = input\n",
    "        return np.maximum(input, 0)\n",
    "#         raise NotImplementedError(\"Implement me plz ;(\")\n",
    "\n",
    "    def backward(self, input, grad_output):\n",
    "        \"\"\"\n",
    "        Compute gradient of loss w.r.t. ReLU input\n",
    "        \"\"\"\n",
    "        dydX = (self.X >=0).astype(float)\n",
    "        return grad_output*dydX\n",
    "#         raise NotImplementedError(\"Implement me plz ;(\")"
   ]
  },
  {
   "cell_type": "markdown",
   "metadata": {},
   "source": [
    "**Задание 2.**\n",
    "\n",
    "Используя указанные прототипы, реализуйте полносвязный слой, выход которого вычисляется следующим образом (подробнее в презентации или, например, в следущей [лекции](https://github.com/esokolov/ml-course-hse/blob/master/2017-fall/lecture-notes/lecture11-dl.pdf)):\n",
    "\n",
    "$$f(v; W, b)= Wv + b, $$\n",
    "\n",
    "где\n",
    "* v — выход предыдущего слоя (вектор размера num_inputs);\n",
    "* W — матрица весов [num_inputs, num_outputs];\n",
    "* b — столбец свободных членов (вектор размера num_outputs).\n",
    "\n",
    "При создании полносвязного слоя веса $W, \\; b$ необходимо проинициализировать веса с помощью GLOROT (какой именно вариант неважно). Про GLOROT можно прочитать здесь:\n",
    "1. Простой пост: http://andyljones.tumblr.com/post/110998971763/an-explanation-of-xavier-initialization\n",
    "2. Статья с математикой: http://proceedings.mlr.press/v9/glorot10a/glorot10a.pdf\n",
    "\n",
    "При каждом вызове backward() необходимо расчитать градиенты по выходу, используя chain-rule, и сделать один шаг градиентного спуска."
   ]
  },
  {
   "cell_type": "code",
   "execution_count": 4,
   "metadata": {},
   "outputs": [
    {
     "data": {
      "text/plain": [
       "array([[1.03207597, 0.13835394],\n",
       "       [0.0327614 , 0.81183354]])"
      ]
     },
     "execution_count": 4,
     "metadata": {},
     "output_type": "execute_result"
    }
   ],
   "source": [
    "np.random.randn(2, 2)"
   ]
  },
  {
   "cell_type": "code",
   "execution_count": 5,
   "metadata": {},
   "outputs": [],
   "source": [
    "class Dense(Layer):\n",
    "    def __init__(self, input_units, output_units, learning_rate=0.1):\n",
    "        \"\"\"\n",
    "        A dense layer is a layer which performs a learned affine transformation:\n",
    "        f(x) = Wx + b\n",
    "\n",
    "        W: matrix of shape [num_inputs, num_outputs]\n",
    "        b: vector of shape [num_outputs]\n",
    "        \"\"\"\n",
    "\n",
    "        self.learning_rate = learning_rate\n",
    "\n",
    "        # initialize weights with small random numbers from normal distribution\n",
    "        self.weights = np.random.randn(input_units, output_units) * np.sqrt(2. / (input_units + output_units))\n",
    "#         self.weights = np.random.uniform(-(6**0.5)/(input_units + output_units)**0.5, \n",
    "#                                          (6**0.5)/(input_units + output_units)**0.5,\n",
    "#                                          (input_units, output_units))\n",
    "\n",
    "        self.biases = np.zeros(output_units)\n",
    "#         raise NotImplementedError(\"Implement me plz ;(\")\n",
    "\n",
    "    def forward(self, input):\n",
    "        \"\"\"\n",
    "        Perform an affine transformation:\n",
    "        f(x) = <W*x> + b\n",
    "\n",
    "        input shape: [batch, input_units]\n",
    "        output shape: [batch, output units]\n",
    "        \"\"\"\n",
    "        Y = input.dot(self.weights)+self.biases\n",
    "        return Y\n",
    "\n",
    "#         raise NotImplementedError(\"Implement me plz ;(\")\n",
    "\n",
    "    def backward(self, input, grad_output):\n",
    "        \"\"\"\n",
    "        input shape: [batch, input_units]\n",
    "        grad_output: [batch, output units]\n",
    "\n",
    "        Returns: grad_input, gradient of output w.r.t input\n",
    "        \"\"\"\n",
    "        self.dLdW = input.T.dot(grad_output)\n",
    "        self.dLdb = grad_output.sum(0)\n",
    "        self.dLdx = grad_output.dot(self.weights.T)\n",
    "        self.weights = self.weights - self.learning_rate * self.dLdW\n",
    "        self.biases = self.biases - self.learning_rate * self.dLdb\n",
    "        return self.dLdx\n",
    "#         raise NotImplementedError(\"Implement me plz ;(\")\n"
   ]
  },
  {
   "cell_type": "markdown",
   "metadata": {},
   "source": [
    "**Задание 3.**\n",
    "\n",
    "Как было сказано ранее, в качестве функционала качества в данной задаче мы будем использовать кросс-энтропию. Используя прототипы ниже, реализуйте вычисление данного функционала и его градиента по выходам графа вычислений.\n",
    "\n",
    "Кросс-энтропия предполагает, что модель для каждого объекта выдает вероятности принадлежности к каждому из $K$ классов, т.е. что для одного объекта все $K$ вероятностей неотрицательны и суммируются в 1. В нашем же случае в построении графа участвуют только полносвязный и ReLU слои, а потому выходы графа не являются вероятностями — как правило, в этом случае прогноз $a(x)$ модели нормируется при помощи функции softmax следующим образом:\n",
    "\n",
    "$$\\text{softmax}(a_k(x)) = \\frac{\\exp(a_k(x))}{\\sum_{k=1}^K \\exp(a_k(x))}.$$\n",
    "\n",
    "При реализации указанных функций предполагается, что переданные в качестве параметров оценки принадлежности объектов классам не являются нормированными (их еще называют логитами), но при вычислении указанных величин используйте указанное выше преобразование для приведения этих оценок к корректному виду."
   ]
  },
  {
   "cell_type": "code",
   "execution_count": 6,
   "metadata": {},
   "outputs": [],
   "source": [
    "def softmax_crossentropy_with_logits(logits, y_true):\n",
    "    \"\"\"\n",
    "    Compute crossentropy from logits and ids of correct answers\n",
    "    logits shape: [batch_size, num_classes]\n",
    "    reference_answers: [batch_size]\n",
    "    output is a number\n",
    "    \"\"\"\n",
    "    X = logits\n",
    "    c = X.max(1, keepdims = True)\n",
    "    p = np.exp(X - c)\n",
    "    p /= p.sum(1, keepdims=True)\n",
    "    y = np.zeros((X.shape[0], X.shape[1]))\n",
    "    y[np.arange(X.shape[0]), y_true] = 1\n",
    "    return -(np.log(p)*y).sum(1).mean(0)\n",
    "\n",
    "\n",
    "\n",
    "def grad_softmax_crossentropy_with_logits(logits, y_true):\n",
    "    \"\"\"\n",
    "    Compute crossentropy gradient from logits and ids of correct answers\n",
    "    Output should be divided by batch_size, so any layer update can be simply computed as sum of object updates.\n",
    "    logits shape: [batch_size, num_classes]\n",
    "    reference_answers: [batch_size]\n",
    "    \"\"\"\n",
    "    X = logits\n",
    "    c = X.max(1, keepdims = True)\n",
    "    p = np.exp(X - c)\n",
    "    p /= p.sum(1, keepdims=True)\n",
    "    y = np.zeros((X.shape[0], X.shape[1]))\n",
    "    y[np.arange(X.shape[0]), y_true] = 1\n",
    "    return (p - y) / y.shape[0]\n"
   ]
  },
  {
   "cell_type": "markdown",
   "metadata": {},
   "source": [
    "## Часть 2. Реализация и применение графа вычислений"
   ]
  },
  {
   "cell_type": "markdown",
   "metadata": {},
   "source": [
    "В этой части мы научимся объединять слои в единый граф вычислений, а также использовать его для прямого прохода (вычисления прогнозов на объектах) и обратного прохода (обновление обучаемых параметров графа), после чего у нас появится возможность обучить граф. Для простоты реализации будем считать, что в нашем случае граф вычислений задается как список (python list) слоёв из числа реализованных ранее."
   ]
  },
  {
   "cell_type": "markdown",
   "metadata": {},
   "source": [
    "Ниже приведен код для скачивания датасета MNIST с официального сайта. Датасет делится на тренировочную и тестовую части. Тренировочная дополнительно разбивается на тренировочную и валидационную."
   ]
  },
  {
   "cell_type": "code",
   "execution_count": 7,
   "metadata": {},
   "outputs": [],
   "source": [
    "import sys\n",
    "import os\n",
    "import time\n",
    "import gzip\n",
    "from urllib.request import urlretrieve\n",
    "\n",
    "def load_mnist(flatten=False):\n",
    "    \"\"\"taken from https://github.com/Lasagne/Lasagne/blob/master/examples/mnist.py\"\"\"\n",
    "    # We first define a download function, supporting both Python 2 and 3.\n",
    "\n",
    "    def download(filename, source='http://yann.lecun.com/exdb/mnist/'):\n",
    "        print(\"Downloading %s\" % filename)\n",
    "        urlretrieve(source + filename, filename)\n",
    "\n",
    "    # We then define functions for loading MNIST images and labels.\n",
    "    # For convenience, they also download the requested files if needed.\n",
    "\n",
    "    def load_mnist_images(filename):\n",
    "        if not os.path.exists(filename):\n",
    "            download(filename)\n",
    "        # Read the inputs in Yann LeCun's binary format.\n",
    "        with gzip.open(filename, 'rb') as f:\n",
    "            data = np.frombuffer(f.read(), np.uint8, offset=16)\n",
    "        # The inputs are vectors now, we reshape them to monochrome 2D images,\n",
    "        # following the shape convention: (examples, channels, rows, columns)\n",
    "        data = data.reshape(-1, 1, 28, 28)\n",
    "        # The inputs come as bytes, we convert them to float32 in range [0,1].\n",
    "        # (Actually to range [0, 255/256], for compatibility to the version\n",
    "        # provided at http://deeplearning.net/data/mnist/mnist.pkl.gz.)\n",
    "        return data / np.float32(256)\n",
    "\n",
    "    def load_mnist_labels(filename):\n",
    "        if not os.path.exists(filename):\n",
    "            download(filename)\n",
    "        # Read the labels in Yann LeCun's binary format.\n",
    "        with gzip.open(filename, 'rb') as f:\n",
    "            data = np.frombuffer(f.read(), np.uint8, offset=8)\n",
    "        # The labels are vectors of integers now, that's exactly what we want.\n",
    "        return data\n",
    "\n",
    "    # We can now download and read the training and test set images and labels.\n",
    "    X_train = load_mnist_images('train-images-idx3-ubyte.gz')\n",
    "    y_train = load_mnist_labels('train-labels-idx1-ubyte.gz')\n",
    "    X_test = load_mnist_images('t10k-images-idx3-ubyte.gz')\n",
    "    y_test = load_mnist_labels('t10k-labels-idx1-ubyte.gz')\n",
    "\n",
    "    # We reserve the last 10000 training examples for validation.\n",
    "    X_train, X_val = X_train[:-10000], X_train[-10000:]\n",
    "    y_train, y_val = y_train[:-10000], y_train[-10000:]\n",
    "    \n",
    "    if flatten:\n",
    "        X_train = X_train.reshape([X_train.shape[0], -1])\n",
    "        X_val = X_val.reshape([X_val.shape[0], -1])\n",
    "        X_test = X_test.reshape([X_test.shape[0], -1])\n",
    "\n",
    "    # We just return all the arrays in order, as expected in main().\n",
    "    # (It doesn't matter how we do this as long as we can read them again.)\n",
    "    return X_train, y_train, X_val, y_val, X_test, y_test"
   ]
  },
  {
   "cell_type": "markdown",
   "metadata": {},
   "source": [
    "Посмотрим на несколько объектов из этого датасета."
   ]
  },
  {
   "cell_type": "code",
   "execution_count": 8,
   "metadata": {},
   "outputs": [
    {
     "data": {
      "image/png": "[encoded data removed]",
      "text/plain": [
       "<Figure size 432x432 with 4 Axes>"
      ]
     },
     "metadata": {
      "needs_background": "light"
     },
     "output_type": "display_data"
    }
   ],
   "source": [
    "import matplotlib.pyplot as plt\n",
    "%matplotlib inline\n",
    "\n",
    "X_train, y_train, X_val, y_val, X_test, y_test = load_mnist(flatten=True)\n",
    "\n",
    "plt.figure(figsize=[6, 6])\n",
    "for i in range(4):\n",
    "    plt.subplot(2, 2, i+1)\n",
    "    plt.title(\"Label: %i\"%y_train[i])\n",
    "    plt.imshow(X_train[i].reshape([28, 28]),cmap='gray');"
   ]
  },
  {
   "cell_type": "markdown",
   "metadata": {},
   "source": [
    "**Задание 4.**\n",
    "\n",
    "Используя прототип ниже, реализуйте прямой и обратный проход по графу вычислений и функцию для получения предсказаний метки класса."
   ]
  },
  {
   "cell_type": "code",
   "execution_count": null,
   "metadata": {},
   "outputs": [],
   "source": []
  },
  {
   "cell_type": "code",
   "execution_count": 9,
   "metadata": {},
   "outputs": [],
   "source": [
    "class NeuralNetwork:\n",
    "    def __init__(self, layers):\n",
    "        \"\"\"\n",
    "        layers — list of Layer objects\n",
    "        \"\"\"\n",
    "        \n",
    "        self.layers = layers\n",
    "        \n",
    "    def forward(self, X):\n",
    "        \"\"\"\n",
    "        Compute activations of all network layers by applying them sequentially.\n",
    "        Return a list of activations for each layer. \n",
    "        Make sure last activation corresponds to network logits.\n",
    "        \"\"\"\n",
    "        \n",
    "        activations = []\n",
    "        input = X\n",
    "        for i in range(len(self.layers)):\n",
    "            input = self.layers[i].forward(input)\n",
    "            activations.append(input)\n",
    "            \n",
    "            \n",
    "            \n",
    "#         raise NotImplementedError(\"Implement me plz ;(\")\n",
    "        assert len(activations) == len(self.layers)\n",
    "        return activations\n",
    "\n",
    "    def predict(self, X):\n",
    "        \"\"\"\n",
    "        Use network to predict the most likely class for each sample.\n",
    "        \"\"\"\n",
    "        layer_activations = self.forward(X)\n",
    "        logits = layer_activations[-1]\n",
    "        return np.argmax(logits, axis=1)\n",
    "#         raise NotImplementedError(\"Implement me plz ;(\")\n",
    "    \n",
    "\n",
    "    def backward(self, X, y):\n",
    "        \"\"\"\n",
    "        Train your network on a given batch of X and y.\n",
    "        You first need to run forward to get all layer activations.\n",
    "        Then you can run layer.backward going from last to first layer.\n",
    "\n",
    "        After you called backward for all layers, all Dense layers have already made one gradient step.\n",
    "        \"\"\"\n",
    "        input = X\n",
    "        # Get the layer activations\n",
    "        layer_activations = self.forward(X)\n",
    "        layer_inputs = [X] + layer_activations  # layer_input[i] is an input for network[i]\n",
    "#         print(layer_activations)\n",
    "        logits = layer_activations[-1]\n",
    "\n",
    "        # Compute the loss and the initial gradient\n",
    "        loss = softmax_crossentropy_with_logits(logits, y)\n",
    "        loss_grad = grad_softmax_crossentropy_with_logits(logits, y)\n",
    "\n",
    "        # propagate gradients through network layers using .backward\n",
    "        # hint: start from last layer and move to earlier layers\n",
    "        dLdy = loss_grad\n",
    "        for i in list(range(len(self.layers)))[::-1]:\n",
    "            dLdy = self.layers[i].backward(layer_inputs[i], dLdy)\n",
    "#         raise NotImplementedError(\"Implement me plz ;(\")\n",
    "\n",
    "        return np.mean(loss)"
   ]
  },
  {
   "cell_type": "code",
   "execution_count": 10,
   "metadata": {},
   "outputs": [],
   "source": [
    "layers = []\n",
    "hidden_layers_size = 40\n",
    "layers.append(Dense(X_train.shape[1], hidden_layers_size))\n",
    "layers.append(ReLU())\n",
    "layers.append(Dense(hidden_layers_size, hidden_layers_size))\n",
    "layers.append(ReLU())\n",
    "layers.append(Dense(hidden_layers_size, 10))\n",
    "\n",
    "model = NeuralNetwork(layers)"
   ]
  },
  {
   "cell_type": "markdown",
   "metadata": {},
   "source": [
    "Все готово для запуска обучения. Если все реализовано корректно, то точность классификации на валидационном множестве должна превысить 97%. \n",
    "\n",
    "Ниже определена функции для итерации по батчам, принимающая на вход картинки, матки классов, а также размер батча и флаг отвечающий за перемешивание примеров."
   ]
  },
  {
   "cell_type": "code",
   "execution_count": 11,
   "metadata": {},
   "outputs": [],
   "source": [
    "from tqdm import trange\n",
    "\n",
    "def iterate_minibatches(inputs, targets, batchsize, shuffle=False, seed=1234):\n",
    "    assert len(inputs) == len(targets)\n",
    "    \n",
    "    indices = np.arange(len(inputs)).astype(np.int32)\n",
    "    if shuffle:\n",
    "        np.random.seed(seed)\n",
    "        np.random.shuffle(indices)\n",
    "    \n",
    "    for start_idx in trange(0, len(inputs) - batchsize + 1, batchsize):\n",
    "        batch = indices[start_idx:start_idx + batchsize]\n",
    "        \n",
    "        yield inputs[batch], targets[batch]"
   ]
  },
  {
   "cell_type": "markdown",
   "metadata": {},
   "source": [
    "Ниже приведены функции для обучения модели и отслеживания значения loss на тренироворочной части и на валидации."
   ]
  },
  {
   "cell_type": "code",
   "execution_count": 12,
   "metadata": {},
   "outputs": [],
   "source": [
    "from IPython.display import clear_output\n",
    "train_log = []\n",
    "val_log = []"
   ]
  },
  {
   "cell_type": "code",
   "execution_count": 13,
   "metadata": {},
   "outputs": [
    {
     "name": "stdout",
     "output_type": "stream",
     "text": [
      "Epoch 14\n",
      "Train accuracy: 0.98158\n",
      "Val accuracy: 0.9628\n"
     ]
    },
    {
     "data": {
      "image/png": "[encoded data removed]",
      "text/plain": [
       "<Figure size 432x288 with 1 Axes>"
      ]
     },
     "metadata": {
      "needs_background": "light"
     },
     "output_type": "display_data"
    }
   ],
   "source": [
    "Loss = []\n",
    "for epoch in range(15):\n",
    "    LOSS = []\n",
    "    for x_batch, y_batch in iterate_minibatches(X_train, y_train, batchsize=32, shuffle=True):\n",
    "#         print(\"x_batch {}, y_batch {}\".format(x_batch.shape, y_batch.shape))\n",
    "        Loss.append(model.backward(x_batch, y_batch))\n",
    "    \n",
    "    train_log.append(np.mean(model.predict(X_train) == y_train))\n",
    "    val_log.append(np.mean(model.predict(X_val) == y_val))\n",
    "    clear_output()\n",
    "    print(\"Epoch\", epoch)\n",
    "    print(\"Train accuracy:\", train_log[-1])\n",
    "    print(\"Val accuracy:\", val_log[-1])\n",
    "    plt.plot(train_log, label='train accuracy')\n",
    "    plt.plot(val_log, label='val accuracy')\n",
    "    plt.legend(loc='best')\n",
    "    plt.grid()\n",
    "    plt.show()"
   ]
  },
  {
   "cell_type": "code",
   "execution_count": 14,
   "metadata": {},
   "outputs": [
    {
     "data": {
      "image/png": "[encoded data removed]",
      "text/plain": [
       "<Figure size 432x288 with 1 Axes>"
      ]
     },
     "metadata": {
      "needs_background": "light"
     },
     "output_type": "display_data"
    }
   ],
   "source": [
    "plt.plot(Loss)\n",
    "plt.grid()\n",
    "plt.ylabel('Loss')\n",
    "plt.xlabel('iteration')\n",
    "plt.show()"
   ]
  },
  {
   "cell_type": "markdown",
   "metadata": {},
   "source": [
    "## Часть 3. Дополнительные слои"
   ]
  },
  {
   "cell_type": "markdown",
   "metadata": {},
   "source": [
    "В этой части предлагается реализовать сверточный слой и слой maxpooling, а также разработать свою архитектуру графа вычислений с их использованием для повышения качества на валидационной выборке.\n",
    "\n",
    "**Задание 5.** Реализуйте сверточный слой.\n",
    "\n",
    "Рассмотрим один сверточный слой. Пусть на вход поступает изображение $X^l$ с $channels$ каналами, а сверточный слой $W$ имеет размер $k_1 \\times k_2 \\times channels$. Тогда применение слоя можно выразить следующим образом:\n",
    "\n",
    "$$x_{ij}^{l} = \\sum_{m=0}^{k_1 - 1} \\sum_{n=0}^{k_2 - 1} \\sum_{c=0}^{channels} w_{m, n, c}^{l} x_{i+m, j+n, c}^{l-1}$$"
   ]
  },
  {
   "cell_type": "code",
   "execution_count": 15,
   "metadata": {},
   "outputs": [],
   "source": [
    "def get_im2col_indices(x_shape, field_height, field_width, padding=1, stride=1):\n",
    "    N, C, H, W = x_shape\n",
    "    assert (H + 2 * padding - field_height) % stride == 0\n",
    "    assert (W + 2 * padding - field_height) % stride == 0\n",
    "    out_height = (H + 2 * padding - field_height) // stride + 1\n",
    "    out_width = (W + 2 * padding - field_width) // stride + 1\n",
    "\n",
    "    i0 = np.repeat(np.arange(field_height), field_width)\n",
    "    i0 = np.tile(i0, C)\n",
    "    i1 = stride * np.repeat(np.arange(out_height), out_width)\n",
    "    j0 = np.tile(np.arange(field_width), field_height * C)\n",
    "    j1 = stride * np.tile(np.arange(out_width), out_height)\n",
    "    i = i0.reshape(-1, 1) + i1.reshape(1, -1)\n",
    "    j = j0.reshape(-1, 1) + j1.reshape(1, -1)\n",
    "\n",
    "    k = np.repeat(np.arange(C), field_height * field_width).reshape(-1, 1)\n",
    "\n",
    "    return (k, i, j)\n",
    "\n",
    "def im2col_indices(x, field_height, field_width, padding=1, stride=1):\n",
    "    p = padding\n",
    "    x_padded = np.pad(x, ((0, 0), (0, 0), (p, p), (p, p)), mode='constant')\n",
    "\n",
    "    k, i, j = get_im2col_indices(x.shape, field_height, field_width, padding,\n",
    "                                 stride)\n",
    "    cols = x_padded[:, k, i, j]\n",
    "    C = x.shape[1]\n",
    "    cols = cols.transpose(1, 2, 0).reshape(field_height * field_width * C, -1)\n",
    "    return cols\n",
    "\n",
    "def col2im_indices(cols, x_shape, field_height=3, field_width=3, padding=1,\n",
    "                   stride=1):\n",
    "    N, C, H, W = x_shape\n",
    "    H_padded, W_padded = H + 2 * padding, W + 2 * padding\n",
    "    x_padded = np.zeros((N, C, H_padded, W_padded), dtype=cols.dtype)\n",
    "    k, i, j = get_im2col_indices(x_shape, field_height, field_width, padding,\n",
    "                               stride)\n",
    "    cols_reshaped = cols.reshape(C * field_height * field_width, -1, N)\n",
    "    cols_reshaped = cols_reshaped.transpose(2, 0, 1)\n",
    "    np.add.at(x_padded, (slice(None), k, i, j), cols_reshaped)\n",
    "    if padding == 0:\n",
    "        return x_padded\n",
    "    return x_padded[:, :, padding:-padding, padding:-padding]"
   ]
  },
  {
   "cell_type": "code",
   "execution_count": 16,
   "metadata": {},
   "outputs": [],
   "source": [
    "class Conv2d(Layer):\n",
    "    def __init__(self, in_channels, out_channels, kernel_size, learning_rate=0.1, stride=1, padding=1):\n",
    "        \"\"\"\n",
    "        A convolutional layer with out_channels kernels of kernel_size.\n",
    "\n",
    "        in_channels — number of input channels\n",
    "        out_channels — number of convolutional filters\n",
    "        kernel_size — tuple of two numbers: k_1 and k_2\n",
    "\n",
    "        Initialize required weights.\n",
    "        \"\"\"\n",
    "        self.d_X  = in_channels\n",
    "\n",
    "        self.n_filter, self.h_filter, self.w_filter = out_channels, kernel_size[0], kernel_size[1]\n",
    "        self.stride, self.padding = stride, padding\n",
    "\n",
    "        self.W = np.random.randn(out_channels,\n",
    "            self.d_X, self.h_filter, self.w_filter) * np.sqrt(2. / (in_channels + out_channels))\n",
    "\n",
    "        \n",
    "        self.learning_rate = learning_rate\n",
    "\n",
    "    def forward(self, input):\n",
    "        \"\"\"\n",
    "        Perform convolutional transformation:\n",
    "\n",
    "        input shape: [batch, in_channels, h, w]\n",
    "        output shape: [batch, out_channels, h_out, w_out]\n",
    "        \"\"\"\n",
    "        h_X, w_X = input.shape[2], input.shape[3]\n",
    "        h_out = (h_X - self.h_filter + 2 * self.padding) / self.stride + 1\n",
    "        w_out = (w_X - self.w_filter + 2 * self.padding) / self.stride + 1\n",
    "\n",
    "        if not h_out.is_integer() or not w_out.is_integer():\n",
    "            raise Exception(\"Invalid dimensions!\")\n",
    "        \n",
    "        h_out, w_out = int(h_out), int(w_out)\n",
    "        \n",
    "        n_X = input.shape[0]\n",
    "\n",
    "        X_col = im2col_indices(input, self.h_filter, self.w_filter, stride=self.stride, padding=self.padding)\n",
    "        W_row = self.W.reshape(self.n_filter, -1)\n",
    "\n",
    "        out = W_row @ X_col\n",
    "        out = out.reshape(self.n_filter, h_out, w_out, n_X)\n",
    "        out = out.transpose(3, 0, 1, 2)\n",
    "        return out\n",
    "\n",
    "    def backward(self, input, grad_output):\n",
    "        \n",
    "        h_X, w_X = input.shape[2], input.shape[3]\n",
    "        h_out = (h_X - self.h_filter + 2 * self.padding) / self.stride + 1\n",
    "        w_out = (w_X - self.w_filter + 2 * self.padding) / self.stride + 1\n",
    "        if not h_out.is_integer() or not w_out.is_integer():\n",
    "            raise Exception(\"Invalid dimensions!\")\n",
    "        h_out, w_out = int(h_out), int(w_out)\n",
    "        n_X = input.shape[0]\n",
    "        X_col = im2col_indices(input, self.h_filter, self.w_filter, stride=self.stride, padding=self.padding)\n",
    "        \n",
    "        dout_flat = grad_output.transpose(1, 2, 3, 0).reshape(self.n_filter, -1)\n",
    "        dW = dout_flat @ X_col.T\n",
    "        dW = dW.reshape(self.W.shape)\n",
    "        W_flat = self.W.reshape(self.n_filter, -1)\n",
    "        dX_col = W_flat.T @ dout_flat\n",
    "        shape = (n_X, self.d_X, h_X, w_X)\n",
    "        dX = col2im_indices(dX_col, shape, self.h_filter,\n",
    "                            self.w_filter, self.padding, self.stride)\n",
    "        self.W = self.W - self.learning_rate*dW\n",
    "        \n",
    "        return dX"
   ]
  },
  {
   "cell_type": "markdown",
   "metadata": {},
   "source": [
    "**Задание 6.** Реализуйте слой макспулинга.\n",
    "\n",
    "Ниже, на картинке, можно увидеть пример применения операции макспулинга с ядром размера 2x2 (слой применяется раздельно для каждого канала изображения).\n",
    "\n",
    "<img width=\"50%\" src=\"https://computersciencewiki.org/images/8/8a/MaxpoolSample2.png\">"
   ]
  },
  {
   "cell_type": "markdown",
   "metadata": {},
   "source": [
    "## Используемый материал \n",
    "* https://medium.com/the-bioinformatics-press/only-numpy-understanding-back-propagation-for-max-pooling-layer-in-multi-layer-cnn-with-example-f7be891ee4b4\n",
    "* https://becominghuman.ai/only-numpy-implementing-convolutional-neural-network-using-numpy-deriving-forward-feed-and-back-458a5250d6e4\n",
    "* https://wiseodd.github.io/techblog/2016/07/18/convnet-maxpool-layer/\n",
    "* https://deepnotes.io/convlayer\n",
    "* https://github.com/parasdahal/deepnet/tree/master/deepnet"
   ]
  },
  {
   "cell_type": "code",
   "execution_count": 17,
   "metadata": {},
   "outputs": [],
   "source": [
    "import skimage.measure"
   ]
  },
  {
   "cell_type": "code",
   "execution_count": 18,
   "metadata": {},
   "outputs": [],
   "source": [
    "class Maxpool2d(Layer):\n",
    "    def __init__(self, kernel_size):\n",
    "        \"\"\"\n",
    "        A maxpooling layer with kernel of kernel_size.\n",
    "        This layer donwsamples [kernel_size, kernel_size] to\n",
    "        1 number which represents maximum.\n",
    "\n",
    "        Stride description is identical to the convolution\n",
    "        layer. But default value we use is kernel_size to\n",
    "        reduce dim by kernel_size times.\n",
    "\n",
    "        This layer does not have any learnable parameters.\n",
    "        \"\"\"\n",
    "        self.stride = kernel_size[0]\n",
    "        self.kernel_size = kernel_size[0]\n",
    "\n",
    "    def forward(self, input):\n",
    "        \n",
    "        \"\"\"\n",
    "        Perform maxpooling transformation:\n",
    "\n",
    "        input shape: [batch, in_channels, h, w]\n",
    "        output shape: [batch, out_channels, h_out, w_out]\n",
    "        \"\"\"\n",
    "        \n",
    "        \n",
    "        n = input.shape[0]\n",
    "        d = input.shape[1]\n",
    "        h, w = input.shape[2], input.shape[3]\n",
    "        h_out = (h - self.kernel_size) // self.stride + 1\n",
    "        w_out = (w - self.kernel_size) // self.stride + 1\n",
    "        X_reshaped = input.reshape(n * d, 1, h, w)\n",
    "        X_col = im2col_indices(X_reshaped, self.kernel_size, self.kernel_size, padding=0, stride=self.stride)\n",
    "        max_idx = np.argmax(X_col, axis=0)\n",
    "        out = X_col[max_idx, range(max_idx.size)]\n",
    "        out = out.reshape(h_out, w_out, n, d)\n",
    "        out = out.transpose(2, 3, 0, 1)\n",
    "        return out\n",
    "\n",
    "    def backward(self, input, grad_output):\n",
    "        \"\"\"\n",
    "        Compute gradient of loss w.r.t. Maxpool2d input\n",
    "        \"\"\"\n",
    "#         print('Maxpool 2d backward')\n",
    "        \n",
    "        n = input.shape[0]\n",
    "        d = input.shape[1]\n",
    "        h, w = input.shape[2], input.shape[3]\n",
    "        h_out = (h - self.kernel_size) // self.stride + 1\n",
    "        w_out = (w - self.kernel_size) // self.stride + 1\n",
    "        X_reshaped = input.reshape(n * d, 1, h, w)\n",
    "        X_col = im2col_indices(X_reshaped, self.kernel_size, self.kernel_size, padding=0, stride=self.stride)\n",
    "        max_idx = np.argmax(X_col, axis=0)\n",
    "        \n",
    "        dX_col = np.zeros_like(X_col)\n",
    "        dout_flat = grad_output.transpose(2, 3, 0, 1).ravel()\n",
    "        dX_col[max_idx, range(max_idx.size)] = dout_flat\n",
    "        dX = col2im_indices(dX_col, (n * d, 1, h, w), self.kernel_size, self.kernel_size, padding=0, stride=self.stride)\n",
    "        dX = dX.reshape(input.shape)\n",
    "        return dX\n"
   ]
  },
  {
   "cell_type": "markdown",
   "metadata": {},
   "source": [
    "**Задание 7.** Реализуйте слой для перевода n-мерного тензора в матрицу. Данный слой понадобится вам после использования сверточных слоев для перевода четырехмерного тензора в матрицу и дальнейшего использования результата в полносвязном слое для предсказания ненормированных вероятностей классов."
   ]
  },
  {
   "cell_type": "code",
   "execution_count": 19,
   "metadata": {},
   "outputs": [],
   "source": [
    "class Flatten(Layer):\n",
    "    def __init__(self):\n",
    "        \"\"\"\n",
    "        This layer does not have any parameters\n",
    "        \"\"\"\n",
    "        pass\n",
    "\n",
    "    def forward(self, input):\n",
    "        \n",
    "        \n",
    "        \"\"\"\n",
    "        input shape: [batch_size, channels, feature_nums_h, feature_nums_w]\n",
    "        output shape: [batch_size, channels * feature_nums_h * feature_nums_w]\n",
    "        \"\"\"\n",
    "        X_shape = input.shape\n",
    "        self.out_shape = (X_shape[0], -1)\n",
    "        out = input.ravel().reshape(self.out_shape)\n",
    "        self.out_shape = self.out_shape[1]\n",
    "        return out\n",
    "\n",
    "    def backward(self, input, grad_output):\n",
    "        \"\"\"\n",
    "        Compute gradient of loss w.r.t. Flatten input\n",
    "        \"\"\"\n",
    "        X_shape = input.shape\n",
    "        out = grad_output.reshape(X_shape)\n",
    "        return out"
   ]
  },
  {
   "cell_type": "markdown",
   "metadata": {},
   "source": [
    "**Задание 8.** Подберите архитектуру сети, используя сверточные слои и слои макспулинга и превзойдите качество полносвязной сети."
   ]
  },
  {
   "cell_type": "markdown",
   "metadata": {},
   "source": [
    "### Использовал\n",
    "* https://yashk2810.github.io/Applying-Convolutional-Neural-Network-on-the-MNIST-dataset/"
   ]
  },
  {
   "cell_type": "code",
   "execution_count": 22,
   "metadata": {},
   "outputs": [],
   "source": [
    "layers = []\n",
    "layers.append(Conv2d(in_channels=1, out_channels = 32,  kernel_size = (3,3)))\n",
    "layers.append(ReLU())\n",
    "layers.append(Conv2d(in_channels=32, out_channels = 32,  kernel_size = (3,3)))\n",
    "layers.append(ReLU())\n",
    "layers.append(Maxpool2d((2,2)))\n",
    "layers.append(Conv2d(in_channels=32, out_channels = 64,  kernel_size = (3,3)))\n",
    "layers.append(ReLU())\n",
    "layers.append(Maxpool2d((2,2)))\n",
    "layers.append(Flatten())\n",
    "layers.append(Dense(3136, 512))\n",
    "layers.append(ReLU())\n",
    "layers.append(Dense(512, 10))\n",
    "model = NeuralNetwork(layers)"
   ]
  },
  {
   "cell_type": "code",
   "execution_count": 23,
   "metadata": {},
   "outputs": [],
   "source": [
    "from IPython.display import clear_output\n",
    "import time\n",
    "train_log = []\n",
    "val_log = []"
   ]
  },
  {
   "cell_type": "code",
   "execution_count": 24,
   "metadata": {},
   "outputs": [],
   "source": [
    "def time_format(seconds):\n",
    "    seconds = int(seconds)\n",
    "    minutes, seconds = divmod(seconds, 60)\n",
    "    hours, minutes = divmod(minutes, 60)\n",
    "    return hours, minutes, seconds"
   ]
  },
  {
   "cell_type": "code",
   "execution_count": 25,
   "metadata": {},
   "outputs": [
    {
     "name": "stdout",
     "output_type": "stream",
     "text": [
      "Summary time after start: 2 h 38 m 16 s\n",
      "Epoch 4\n",
      "Train accuracy: 0.9949383802816901\n",
      "Val accuracy: 0.9863782051282052\n"
     ]
    },
    {
     "data": {
      "image/png": "[encoded data removed]",
      "text/plain": [
       "<Figure size 432x288 with 1 Axes>"
      ]
     },
     "metadata": {
      "needs_background": "light"
     },
     "output_type": "display_data"
    }
   ],
   "source": [
    "Loss = []\n",
    "c = time.time()\n",
    "for epoch in range(5):\n",
    "    train_predicted = []\n",
    "    var_predicted = []\n",
    "    for x_batch,y_batch in iterate_minibatches(X_train, y_train, batchsize=32, shuffle=True):\n",
    "        Loss.append(model.backward(x_batch.reshape((-1, 1, 28, 28)), y_batch))\n",
    "    for x_batch,y_batch in iterate_minibatches(X_train, y_train, batchsize=32, shuffle=False):\n",
    "        train_predicted.append(model.predict(x_batch.reshape((-1, 1, 28, 28))) == y_batch)\n",
    "    for x_batch,y_batch in iterate_minibatches(X_val, y_val, batchsize=32, shuffle=False):\n",
    "        var_predicted.append(model.predict(x_batch.reshape((-1, 1, 28, 28))) == y_batch)\n",
    "    train_log.append(np.mean(train_predicted))\n",
    "    val_log.append(np.mean(var_predicted))\n",
    "    \n",
    "    clear_output()\n",
    "    h, m, s = time_format(time.time() - c)\n",
    "    print(\"Summary time after start: {} h {} m {} s\".format(h, m, s))\n",
    "    print(\"Epoch\", epoch)\n",
    "    print(\"Train accuracy:\", train_log[-1])\n",
    "    print(\"Val accuracy:\", val_log[-1])\n",
    "    plt.plot(train_log, label='train accuracy')\n",
    "    plt.plot(val_log, label='val accuracy')\n",
    "    plt.legend(loc='best')\n",
    "    plt.grid()\n",
    "    plt.show()"
   ]
  },
  {
   "cell_type": "code",
   "execution_count": 26,
   "metadata": {},
   "outputs": [
    {
     "data": {
      "image/png": "[encoded data removed]",
      "text/plain": [
       "<Figure size 432x288 with 1 Axes>"
      ]
     },
     "metadata": {
      "needs_background": "light"
     },
     "output_type": "display_data"
    }
   ],
   "source": [
    "plt.plot(Loss)\n",
    "plt.grid()\n",
    "plt.ylabel('Loss')\n",
    "plt.xlabel('iteration')\n",
    "plt.show()"
   ]
  },
  {
   "cell_type": "code",
   "execution_count": 27,
   "metadata": {},
   "outputs": [
    {
     "data": {
      "text/plain": [
       "1.72629084950901e-06"
      ]
     },
     "execution_count": 27,
     "metadata": {},
     "output_type": "execute_result"
    }
   ],
   "source": [
    "min(Loss)"
   ]
  },
  {
   "cell_type": "markdown",
   "metadata": {},
   "source": [
    "## Часть 4 (по желанию). Мемы"
   ]
  },
  {
   "cell_type": "markdown",
   "metadata": {},
   "source": [
    "**Задание 9.** Какие мемы из 2k18 года вам запомнились больше всего?"
   ]
  },
  {
   "cell_type": "markdown",
   "metadata": {},
   "source": [
    "**Примеры:**\n",
    "\n",
    "https://yandex.ru/collections/user/web-ontology/liubimyi-nauchnik/"
   ]
  },
  {
   "cell_type": "markdown",
   "metadata": {},
   "source": [
    "<img width=\"100%\" src=\"https://memepedia.ru/wp-content/uploads/2017/08/%D0%BD%D0%B0-%D0%BC%D1%83%D0%B6%D0%B8%D0%BA-%D0%B8%D0%B7%D0%BE%D0%BB%D0%B5%D0%BD%D1%82%D1%83-3.jpg\"/>"
   ]
  },
  {
   "cell_type": "markdown",
   "metadata": {},
   "source": [
    "<img src=\"https://memepedia.ru/wp-content/uploads/2018/04/dyval37w0aitznj-1.jpg\"/>"
   ]
  }
 ],
 "metadata": {
  "kernelspec": {
   "display_name": "Python 3",
   "language": "python",
   "name": "python3"
  },
  "language_info": {
   "codemirror_mode": {
    "name": "ipython",
    "version": 3
   },
   "file_extension": ".py",
   "mimetype": "text/x-python",
   "name": "python",
   "nbconvert_exporter": "python",
   "pygments_lexer": "ipython3",
   "version": "3.6.6"
  }
 },
 "nbformat": 4,
 "nbformat_minor": 2
}
